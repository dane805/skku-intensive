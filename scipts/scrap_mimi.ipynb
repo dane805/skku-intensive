{
 "cells": [
  {
   "cell_type": "code",
   "execution_count": 1,
   "metadata": {},
   "outputs": [],
   "source": [
    "import time\n",
    "\n",
    "from selenium import webdriver\n",
    "from selenium.webdriver.common.by import By\n",
    "\n",
    "driver = webdriver.Chrome()"
   ]
  },
  {
   "cell_type": "code",
   "execution_count": 2,
   "metadata": {},
   "outputs": [],
   "source": [
    "driver.get('https://map.naver.com/p/search/%ED%8B%B0%EC%97%94%EB%AF%B8%EB%AF%B8/place/1477750254')\n",
    "time.sleep(5) # Let the user actually see something!"
   ]
  },
  {
   "cell_type": "code",
   "execution_count": 3,
   "metadata": {},
   "outputs": [],
   "source": [
    "driver.switch_to.frame(\"entryIframe\")"
   ]
  },
  {
   "cell_type": "code",
   "execution_count": 6,
   "metadata": {},
   "outputs": [],
   "source": [
    "## 리뷰 클릭\n",
    "driver.find_element(By.XPATH, '//*[@id=\"app-root\"]/div/div/div/div[4]/div/div/div/div/a[4]/span').click()"
   ]
  },
  {
   "cell_type": "code",
   "execution_count": 7,
   "metadata": {},
   "outputs": [],
   "source": [
    "## 스크롤 다운\n",
    "driver.execute_script(\"window.scrollTo(0,document.body.scrollHeight)\")"
   ]
  },
  {
   "cell_type": "code",
   "execution_count": 9,
   "metadata": {},
   "outputs": [],
   "source": [
    "## 더보기 클릭\n",
    "driver.find_element(By.XPATH, '//*[@id=\"app-root\"]/div/div/div/div[6]/div[3]/div[3]/div[2]/div/a/span').click()"
   ]
  },
  {
   "cell_type": "markdown",
   "metadata": {},
   "source": [
    "### 데이터 가져오기"
   ]
  },
  {
   "cell_type": "code",
   "execution_count": 15,
   "metadata": {},
   "outputs": [
    {
     "data": {
      "text/plain": [
       "609893"
      ]
     },
     "execution_count": 15,
     "metadata": {},
     "output_type": "execute_result"
    }
   ],
   "source": [
    "html = driver.page_source\n",
    "len(html)"
   ]
  },
  {
   "cell_type": "code",
   "execution_count": 16,
   "metadata": {},
   "outputs": [],
   "source": [
    "from bs4 import BeautifulSoup\n",
    "\n",
    "soup = BeautifulSoup(html, 'html.parser')"
   ]
  },
  {
   "cell_type": "code",
   "execution_count": 17,
   "metadata": {},
   "outputs": [
    {
     "data": {
      "text/plain": [
       "36"
      ]
     },
     "execution_count": 17,
     "metadata": {},
     "output_type": "execute_result"
    }
   ],
   "source": [
    "lis = [div for div in soup.findAll(\"li\")]\n",
    "len(lis)"
   ]
  },
  {
   "cell_type": "code",
   "execution_count": 20,
   "metadata": {},
   "outputs": [
    {
     "name": "stdout",
     "output_type": "stream",
     "text": [
      "['pui__X35jYm', 'place_apply_pui', 'EjjAW']\n"
     ]
    }
   ],
   "source": [
    "for li in lis:\n",
    "    if \"pui\" in str(li.get(\"class\")):\n",
    "        \n",
    "        print(li.get(\"class\"))\n",
    "        break"
   ]
  },
  {
   "cell_type": "code",
   "execution_count": null,
   "metadata": {},
   "outputs": [
    {
     "data": {
      "text/plain": [
       "[<a class=\"pui__sG3Q0N\" data-pui-click-code=\"profile\" href=\"https://m.place.naver.com/my/5eff270a7a3924f9464c70ee/review?v=2\" role=\"button\" target=\"_blank\"><div class=\"pui__thumb\" style=\"width: 42px; height: 42px;\"><img alt=\"프로필\" class=\"pui__AnL5iU\" height=\"38\" src=\"https://search.pstatic.net/common/?autoRotate=true&amp;quality=95&amp;type=f48_48&amp;src=https%3A%2F%2Fphinf.pstatic.net%2Fcontact%2F20201123_157%2F160609891064973UMY_JPEG%2FIMG_0265-2-1-R.jpg\" width=\"38\"/><div class=\"pui__8lw8E2\"><img alt=\"프로필 띠\" height=\"100%\" src=\"https://myplace-phinf.pstatic.net/20231027_133/1698371916056HQcq6_PNG/fish_bread_border.png\" width=\"100%\"/></div></div></a>,\n",
       " <a class=\"pui__hvyFHZ\" data-pui-click-code=\"profile\" href=\"https://m.place.naver.com/my/5eff270a7a3924f9464c70ee/review?v=2\" role=\"button\" target=\"_blank\"><div class=\"pui__JiVbY3\"><span class=\"pui__uslU0d\"><span class=\"pui__NMi-Dp\">hyemini1112</span></span></div><div class=\"pui__RuLAax\"><span class=\"pui__WN-kAf\">리뷰 69</span><span class=\"pui__WN-kAf\">사진 234</span></div></a>,\n",
       " <a class=\"pui__I07xq6\" data-pui-click-code=\"follow\" href=\"#\" role=\"button\" target=\"_self\">팔로우</a>,\n",
       " <a class=\"place_thumb\" href=\"#\" role=\"button\" target=\"_self\"><img alt=\"방문자리뷰사진\" class=\"K0PDV g8o7L Poih_\" src=\"https://pup-review-phinf.pstatic.net/MjAyNDExMDhfMTUz/MDAxNzMxMDUyOTI3MTA0.NF2TBkmOEqKpF-0BVgljwJsyGxlM5RxxJMy-gAysRB0g.odGxZ8V1DXIdydZiwi0h8HsaUcYNjfsfaMnVXIouzhIg.JPEG/7270FDC0-D6F2-4B8F-8F30-5BA0E346EA2A.jpeg?type=w1500_60_sharpen\"/></a>,\n",
       " <a class=\"place_thumb\" href=\"#\" role=\"button\" target=\"_self\"><img alt=\"방문자리뷰사진\" class=\"K0PDV g8o7L\" src=\"https://pup-review-phinf.pstatic.net/MjAyNDExMDhfMzAg/MDAxNzMxMDUyOTI3NDA0.j84b_ooOVhfry3ZO9XX-fiifVMLh2CAFRHaUbl1nS-og.iBOtSc5W1sC-5uVsRui9foEXJwfUvE6dyGHNvAmQscog.JPEG/513679B9-0B37-4927-A13B-045054789F47.jpeg?type=w1500_60_sharpen\"/></a>,\n",
       " <a class=\"place_thumb\" href=\"#\" role=\"button\" target=\"_self\"><img alt=\"방문자리뷰사진\" class=\"K0PDV g8o7L Poih_\" src=\"https://pup-review-phinf.pstatic.net/MjAyNDExMDhfMjE2/MDAxNzMxMDUyOTI3MjI5.PpsKVgt9lzDN9b9QHmF7ujHJYzU4vK-qjm_wr7-IxKAg.gGhbEbjx-z0TwAGtyej23sKXpxnzQ7rBvRxMB5C6uncg.JPEG/49EFED9E-181A-4B00-B38B-F5C4B5AC3CDD.jpeg?type=w1500_60_sharpen\"/></a>,\n",
       " <a class=\"place_thumb\" href=\"#\" role=\"button\" target=\"_self\"><img alt=\"방문자리뷰사진\" class=\"K0PDV g8o7L\" src=\"https://pup-review-phinf.pstatic.net/MjAyNDExMDhfMjYw/MDAxNzMxMDUyOTI3MDUz.i4dI-SWYyPRv_b830jxbxZ9gD3ANnudHgeNA9zO_1J4g.YuHty-ZW-OlRACslRWeMNA4b-ItNMW6m88Un3I36xUwg.JPEG/F602093E-4541-4F86-80F7-DAF6FFEBA7F2.jpeg?type=w1500_60_sharpen\"/></a>,\n",
       " <a class=\"place_thumb\" href=\"#\" role=\"button\" target=\"_self\"><img alt=\"방문자리뷰사진\" class=\"K0PDV g8o7L\" src=\"https://pup-review-phinf.pstatic.net/MjAyNDExMDhfMjQ1/MDAxNzMxMDUyOTI3MTY0.khQ-tmh264Yp4wQN56jdVTLjO6TA9LFZGHN6iR5eVXog.PXBhh1ZXNEqchj2Ajj87h5DDHMThDbJ5DB9YfDVmf8Qg.JPEG/38049720-1FE7-4CDA-804F-BB9609D38163.jpeg?type=w1500_60_sharpen\"/></a>,\n",
       " <a class=\"place_thumb\" href=\"#\" role=\"button\" target=\"_self\"><img alt=\"방문자리뷰사진\" class=\"K0PDV g8o7L Poih_\" src=\"https://pup-review-phinf.pstatic.net/MjAyNDExMDhfMjA5/MDAxNzMxMDUyOTI4NjU5.NVKAmOFNPxAcIhXCqFyviMz4zYxVc0NITTLUB1aWHGsg.IK9FeMLD8ROEpt9zmUYyA5AICwdYqF0Kc-XODFBfw00g.JPEG/9918DB6E-5497-4D82-8A40-0793FD9F0BFC.jpeg?type=w1500_60_sharpen\"/></a>,\n",
       " <a class=\"place_thumb\" href=\"#\" role=\"button\" target=\"_self\"><img alt=\"방문자리뷰사진\" class=\"K0PDV g8o7L Poih_\" src=\"https://pup-review-phinf.pstatic.net/MjAyNDExMDhfMjUx/MDAxNzMxMDUyOTI4Mzkz.p1mUryQJe-u4turpan0eL72VIecUwcjxCjg_NL8Xyzkg.cxWCOfjxe1IVK-2yEJlxJWPuhcQjEOPpnHBjnmuW58og.JPEG/B4A7DE32-23BE-4214-A636-152E8607E807.jpeg?type=w1500_60_sharpen\"/></a>,\n",
       " <a class=\"place_thumb\" href=\"#\" role=\"button\" target=\"_self\"><img alt=\"방문자리뷰사진\" class=\"K0PDV g8o7L Poih_\" src=\"https://pup-review-phinf.pstatic.net/MjAyNDExMDhfMjk3/MDAxNzMxMDUyOTI4Njkw.I-UnWJPDXsVZDVTow1nySut-Ax9thzL73dDRPV2qtI0g.Mpld0FSuzwsDcdvb0GeNCrT4RqqNFd9N4_2wikgw00Eg.JPEG/9A03B0AB-15E4-4C02-903D-7598B7A95E8F.jpeg?type=w1500_60_sharpen\"/></a>,\n",
       " <a class=\"place_thumb\" href=\"#\" role=\"button\" target=\"_self\"><img alt=\"방문자리뷰사진\" class=\"K0PDV g8o7L Poih_\" src=\"https://pup-review-phinf.pstatic.net/MjAyNDExMDhfMjc2/MDAxNzMxMDUyOTI5MzQ4.yA45RFMJMKj43CESJrX90Eq9_4YNnN_UF6WzMp5vTmUg.O_vKqyI5EiDq06aDJQx3Vr--K9oLxPQPylM2qp6mxbQg.JPEG/4B6A9A97-AD49-41F3-8292-F3325972BD3A.jpeg?type=w1500_60_sharpen\"/></a>,\n",
       " <a class=\"place_thumb\" href=\"#\" role=\"button\" target=\"_self\"><img alt=\"방문자리뷰사진\" class=\"K0PDV g8o7L Poih_\" src=\"https://pup-review-phinf.pstatic.net/MjAyNDExMDhfMjEx/MDAxNzMxMDUyOTI5MjE5._mBKIqxNoWwyNccNKGW4YtkCgMU5DIMou0OoOT19Vs0g.e2YnwRZO7thrb-ch-3BVrEbOC-YmvyIyM_dC_MJNcFAg.JPEG/F7127F37-2C73-42C6-8BF0-124922DA92B5.jpeg?type=w1500_60_sharpen\"/></a>,\n",
       " <a class=\"place_thumb\" href=\"#\" role=\"button\" target=\"_self\"><img alt=\"방문자리뷰사진\" class=\"K0PDV g8o7L Poih_\" src=\"https://pup-review-phinf.pstatic.net/MjAyNDExMDhfMTQ2/MDAxNzMxMDUyOTI5NzQy.pe7BURNxlFPz13ZPVISZE3XlAvjnnQ6o-_6_520wOgog.uDHamobaf-kmgIDli1ZIOD0ZUVvUN8SPZ4ShoitIJjUg.JPEG/87814722-8A8F-4621-9FC6-706EEF949AFE.jpeg?type=w1500_60_sharpen\"/></a>,\n",
       " <a class=\"place_thumb\" href=\"#\" role=\"button\" target=\"_self\"><img alt=\"방문자리뷰사진\" class=\"K0PDV g8o7L\" src=\"https://pup-review-phinf.pstatic.net/MjAyNDExMDhfMjUx/MDAxNzMxMDUyOTI5Nzk0.YlGw6PyyLijo-jb6nOSW2l8OYmuVTbKw-Wdv341y0jog.P6T2pqRBiD3CQjspgeKnUPtHRFILo48b-l1pg3ZfvzEg.JPEG/308C1571-9AA0-416A-953A-0DDBEDFC9BF5.jpeg?type=w1500_60_sharpen\"/></a>,\n",
       " <a class=\"place_thumb\" href=\"#\" role=\"button\" target=\"_self\"><img alt=\"방문자리뷰사진\" class=\"K0PDV g8o7L Poih_\" src=\"https://pup-review-phinf.pstatic.net/MjAyNDExMDhfMjA3/MDAxNzMxMDUyOTI5ODgw.EtO0l0x6KUlI1rD6N8g4bDHVjy37fjUL5-ek4MmkoPMg.1uEPNnfVo0RQ2Wzg5ppGZlw3M5GNulD9Wc0GMbe-PiUg.JPEG/0AB079B0-9483-43F6-A8C5-C318F4EF7AB8.jpeg?type=w1500_60_sharpen\"/></a>,\n",
       " <a class=\"PznE8 hcZFX\" href=\"#\" role=\"button\"><span class=\"nK_aH\"><svg aria-hidden=\"true\" class=\"Vg1dR\" viewbox=\"0 0 8 12\" xmlns=\"http://www.w3.org/2000/svg\"><path d=\"M2 11.4l-1-1.1 4.4-4.5L1 1.4 2 .3l5.6 5.5L2 11.4z\"></path></svg><span class=\"place_blind\">이전</span></span></a>,\n",
       " <a class=\"ZCqf_\" href=\"#\" role=\"button\"><span class=\"nK_aH\"><svg aria-hidden=\"true\" class=\"Vg1dR\" viewbox=\"0 0 8 12\" xmlns=\"http://www.w3.org/2000/svg\"><path d=\"M2 11.4l-1-1.1 4.4-4.5L1 1.4 2 .3l5.6 5.5L2 11.4z\"></path></svg><span class=\"place_blind\">다음</span></span></a>,\n",
       " <a aria-expanded=\"false\" aria-haspopup=\"true\" class=\"pui__uqSlGl\" data-pui-click-code=\"visitkeywords\" href=\"#\" role=\"button\" target=\"_self\"><span class=\"pui__V8F9nN\"><em>예약 후 이용</em></span><span class=\"pui__V8F9nN\">대기 시간 <em>2시간 이상</em></span><span class=\"pui__V8F9nN\"><em>데이트</em></span><span class=\"pui__V8F9nN\"><em>연인・배우자</em></span></a>,\n",
       " <a class=\"pui__xtsQN-\" data-pui-click-code=\"rvshowmore\" href=\"#\" role=\"button\" style=\"line-height: 2.4rem; word-break: break-all; -webkit-line-clamp: 3;\" target=\"_self\">대부분 정지선쉐프님 보고 기대를 품고 방문하는 맛집이 아닐까 싶어요~<br/>방문한 날 정지선쉐프님은 안계셔서 아쉬웠지만, 직원분들 모두 너무 친절하시고 접객이 훌륭한 식당이라 기분좋은 식사를 할 수 있었습니다.<br/>마라딤섬은 단품주문이 안되서 마라딤섬이 포함된 세트를 먹을지 엄청 고민하다가 그냥 티엔세트로 먹었는데도 충분했습니다. <br/>메뉴 하나 하나 다 맛있지만, 그렇다고 너~~~~무 맛있어!!! 이 느낌은 아닙니다. <br/>기본은 먹어봐야지 싶어서 소룡포를 추가로 주문했는데<br/>육즙의 밸런스가 좋았습니다. 간이 엄청 쎈게 아니라<br/>개인적으론 좋았습니다.<br/>식사류로 토마토탕면을 주문했는데 왜 인기메뉴인지 알겠더라고요~ 독특하면서도 조화로운 맛있었고,<br/>홍소육덮밥은 고기보다 청경채가 맛있었을 정도로 익힘이 좋았습니다.</a>,\n",
       " <a aria-expanded=\"false\" class=\"pui__wFzIYl\" data-pui-click-code=\"rvshowmore\" href=\"#\" role=\"button\" style=\"line-height: 2.4rem;\" target=\"_self\">더보기</a>,\n",
       " <a aria-expanded=\"false\" aria-haspopup=\"true\" class=\"pui__jhpEyP pui__ggzZJ8\" data-pui-click-code=\"keywordmore\" href=\"#\" role=\"button\" target=\"_self\">+3<span class=\"pui__blind\">개의 리뷰가 더 있습니다</span><span class=\"pui__blind\">펼쳐보기</span></a>,\n",
       " <a aria-expanded=\"false\" aria-haspopup=\"true\" class=\"pui__OwAyDc\" data-pui-click-code=\"reactfirst\" href=\"#\" role=\"button\" target=\"_self\"><span class=\"pui__rLElLv pui__L8m6Tb\"><svg aria-hidden=\"true\" class=\"pui__qnQgNp\" viewbox=\"0 0 22 22\" xmlns=\"http://www.w3.org/2000/svg\"><path d=\"M11 22C4.9 22 0 17.1 0 11S4.9 0 11 0s11 4.9 11 11-4.9 11-11 11zm0-20.5c-5.2 0-9.5 4.3-9.5 9.5s4.3 9.5 9.5 9.5 9.5-4.3 9.5-9.5-4.3-9.5-9.5-9.5zm4 12.4c.3-.3.4-.7.1-1.1-.3-.3-.7-.4-1.1-.1-1.7 1.4-4.3 1.4-5.8 0-.3-.3-.8-.3-1.1 0-.3.3-.3.8 0 1.1 1 1 2.4 1.4 3.8 1.4 1.5.1 2.9-.3 4.1-1.3zM8.1 10c.6 0 1.1-.7 1.1-1.5S8.8 7 8.1 7 7 7.7 7 8.5 7.5 10 8.1 10zm5.8 0c.6 0 1.1-.7 1.1-1.5S14.5 7 13.9 7c-.6 0-1.1.7-1.1 1.5s.4 1.5 1.1 1.5z\"></path></svg></span>반응 남기기</a>]"
      ]
     },
     "execution_count": 29,
     "metadata": {},
     "output_type": "execute_result"
    }
   ],
   "source": [
    "for container in li.findAll(\"a\"):\n",
    "    if "
   ]
  },
  {
   "cell_type": "code",
   "execution_count": null,
   "metadata": {},
   "outputs": [],
   "source": []
  },
  {
   "cell_type": "code",
   "execution_count": null,
   "metadata": {},
   "outputs": [],
   "source": [
    "soup.findAll(\"div\", attrs={\"class\":\"place_apply_pui EjjAW\"})"
   ]
  },
  {
   "cell_type": "code",
   "execution_count": null,
   "metadata": {},
   "outputs": [],
   "source": []
  }
 ],
 "metadata": {
  "kernelspec": {
   "display_name": "Python 3",
   "language": "python",
   "name": "python3"
  },
  "language_info": {
   "codemirror_mode": {
    "name": "ipython",
    "version": 3
   },
   "file_extension": ".py",
   "mimetype": "text/x-python",
   "name": "python",
   "nbconvert_exporter": "python",
   "pygments_lexer": "ipython3",
   "version": "3.13.0"
  }
 },
 "nbformat": 4,
 "nbformat_minor": 2
}
