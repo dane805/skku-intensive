{
 "cells": [
  {
   "cell_type": "code",
   "execution_count": 1,
   "metadata": {},
   "outputs": [],
   "source": [
    "import time\n",
    "\n",
    "from selenium import webdriver\n",
    "from selenium.webdriver.common.by import By\n",
    "\n",
    "driver = webdriver.Chrome()"
   ]
  },
  {
   "cell_type": "code",
   "execution_count": 2,
   "metadata": {},
   "outputs": [],
   "source": [
    "driver.get('https://m.place.naver.com/restaurant/1477750254/home')\n",
    "## 느리게 안되면 모바일 페이지로: \n",
    "time.sleep(5) # Let the user actually see something!"
   ]
  },
  {
   "cell_type": "code",
   "execution_count": 4,
   "metadata": {},
   "outputs": [],
   "source": [
    "# driver.switch_to.frame(\"entryIframe\")"
   ]
  },
  {
   "cell_type": "code",
   "execution_count": 5,
   "metadata": {},
   "outputs": [],
   "source": [
    "## 리뷰 클릭\n",
    "driver.find_element(By.XPATH, '//*[@id=\"app-root\"]/div/div/div/div[4]/div/div/div/div/a[4]/span').click()"
   ]
  },
  {
   "cell_type": "code",
   "execution_count": 6,
   "metadata": {},
   "outputs": [],
   "source": [
    "## 스크롤 다운\n",
    "driver.execute_script(\"window.scrollTo(0,document.body.scrollHeight)\")"
   ]
  },
  {
   "cell_type": "code",
   "execution_count": 9,
   "metadata": {},
   "outputs": [],
   "source": [
    "## 더보기 클릭\n",
    "driver.find_element(By.XPATH, '//*[@id=\"app-root\"]/div/div/div/div[6]/div[2]/div[3]/div[2]/div/a/span').click()"
   ]
  },
  {
   "cell_type": "markdown",
   "metadata": {},
   "source": [
    "### 데이터 가져오기"
   ]
  },
  {
   "cell_type": "code",
   "execution_count": 10,
   "metadata": {},
   "outputs": [
    {
     "data": {
      "text/plain": [
       "581105"
      ]
     },
     "execution_count": 10,
     "metadata": {},
     "output_type": "execute_result"
    }
   ],
   "source": [
    "html = driver.page_source\n",
    "len(html)"
   ]
  },
  {
   "cell_type": "code",
   "execution_count": 11,
   "metadata": {},
   "outputs": [],
   "source": [
    "from bs4 import BeautifulSoup\n",
    "\n",
    "soup = BeautifulSoup(html, 'html.parser')"
   ]
  },
  {
   "cell_type": "code",
   "execution_count": 12,
   "metadata": {},
   "outputs": [],
   "source": [
    "lis = [div for div in soup.findAll(\"li\")]"
   ]
  },
  {
   "cell_type": "code",
   "execution_count": 13,
   "metadata": {},
   "outputs": [
    {
     "name": "stdout",
     "output_type": "stream",
     "text": [
      "대부분 정지선쉐프님 보고 기대를 품고 방문하는 맛집이 아닐까 싶어요~방문한 날 정지선쉐프님은 안계셔서 아쉬웠지만, 직원분들 모두 너무 친절하시고 접객이 훌륭한 식당이라 기분좋은 식사를 할 수 있었습니다.마라딤섬은 단품주문이 안되서 마라딤섬이 포함된 세트를 먹을지 엄청 고민하다가 그냥 티엔세트로 먹었는데도 충분했습니다. 메뉴 하나 하나 다 맛있지만, 그렇다고 너~~~~무 맛있어!!! 이 느낌은 아닙니다. 기본은 먹어봐야지 싶어서 소룡포를 추가로 주문했는데육즙의 밸런스가 좋았습니다. 간이 엄청 쎈게 아니라개인적으론 좋았습니다.식사류로 토마토탕면을 주문했는데 왜 인기메뉴인지 알겠더라고요~ 독특하면서도 조화로운 맛있었고,홍소육덮밥은 고기보다 청경채가 맛있었을 정도로 익힘이 좋았습니다.\n",
      "더보기\n",
      "진챠 딤섬, 마늘새우찜 미친넘 .. 정지선셰프님 보고 갔는데 후회란 없다 또 가고싶다.. 중식집은 이런것이구나.. 웨이팅 생각보다 평일은 널널해요 웨이팅걸고 근처에서 놀고있으면 시간 후딱가니까 웨이팅 장벽에 포기하지말고 제발 가십쇼 ㅠ 극락 가능💕\n",
      "✔️소룡포 육즙이 팡팡. 생강 곁들여 먹으니까 향이 입안에 은은하게 퍼져서 맛있음.✔️트러플쇼마이 과하지않은 트러플향이 식욕을 돋움.✔️티엔미미춘권 겉바속촉 호불호 없는 맛.✔️바질쇼마이 바질향이 좀 약함.✔️마라딤섬 씹을 수록 알싸한 맛이 살살 올라옴. 개인적으로 호에 가까움.✔️흑초이베리코갈비 크게 썰린건 질김. 흑초베이스 소스와 건고추, 야채들이 너무 잘 어울림. 질기지 않았다면 베스트.✔️토마토탕면 새콤한 토마토향이 쎄게 다가옴. 새콤한거 좋아하면 추천함.✔️홍쇼육덮밥 홍쇼육 청경채 숙주의 조화가 좋음.🖤추천하고 싶은 메뉴는소룡포. 홍쇼육덮밥. 트러플쇼마이. 티엔미미춘권.🖤새로운 맛 도전 해보고 싶으면마라딤섬, 토마토탕면🖤무조건 '호'일 것 같은  메뉴소룡포, 티엔미미춘권, 홍쇼육덮밥\n",
      "예약 후 이용대기 시간 30분 이상데이트연인・배우자\n",
      "와...진짜 너무 맛있어요 미쳤어요..👍 소스맛도 특별하고 완벽 그자체 !! 딤섬, 해산물 냉채, 어향완자가지, 마라크림새우, 해물볶음면, 어향육사덮밥 다 맛있고 무조건 딤섬이랑 요리 위주로 추천 !! 정지선 셰프님 진짜 중식여왕인 이유를 알게됬어요 ㅋㅋ 계속 생각나는 맛 🥹\n",
      "더보기\n",
      "더보기\n",
      "정지선쉐프 식당 티엔미미를 찾았어요. 딤섬set먹었는데 오이무침, 새우찜, 딤섬5종, 공심채볶음, 춘권, 토마토탕면/홍소육덮밥, 디저트딤섬까지 하나같이 다 맛있네요. 분위기도 좋고 맛난딤섬 먹으니 기부니가 업업~~ㅎㅎ\n",
      "더보기\n",
      "생각보다는 그저 그랬고 세트 메뉴는 딤섬보다 다른 메뉴들이 더 맛있었어요. 당시에 쉐프님 없어서 좀 아쉬웠고, 예약안하고 주말에 갔더니 3시간 넘게 웨이팅했네요.. 1시간 정도는 웨이팅해서 먹을만해요\n",
      "티엔세트 로 점심식사 했어요음식이 모두 맛있어요.개인적으로는 약간  음식이 좀 짰어요.하지만 메인 음식도 곰돌이 디저트도 진짜 맛있어요.강추합니다. 재방문의사 있어요.\n",
      "set 메뉴로 식사 했습니다. 딤섬 하나씩 4개 구성인데 각각 맛이 달라서, 하나씩 맛 음미하면서 먹기 좋았고, 키크신 남자 직원분이 설명를 잘 해주셔서, 순서대로 먹어 잃는 맛 없이 잘 먹었습니다. 가격 대비 요리 퀄리티가 높고, 꿔바로우 튀김옷 너무 두껍지 않아 좋습니다. 가지요리도 간도 적당하고, 마무리로 식사량도 조절되어 나와서 코스 먹고 너무 무겁지 않게 식사할 수 있어서,너무 좋았네요 :)\n",
      "최근 흑백요리사를 보고 정지선 셰프님의 요리가 너무 먹고 싶어, 해당 레스토랑에 방문하게 되었습니다.오픈 시간보다 이른 시간에 방문하여 웨이팅을 걸어두고, 오픈 시간에 맞춰 들어 갈 수 있었습니다.저는 티엔 세트를 주문했는데, 그 중에서도 딤섬이 특히 인상적이었습니다. 정말 ‘딤섬의 여왕님’이라는 표현이 어울릴 정도로, 딤섬은 입 안에서 부드러움과 풍부한 맛을 자랑했습니다.\n",
      "예약 후 이용대기 시간 10분 이내 데이트연인・배우자\n",
      "더보기\n",
      "티엔미미 예전부터 가보고 싶었는데 흑백요리사보고 더 가고싶어져서 예약후 이용했습니다 콜키지로 중국술이랑 같이 먹었는데 지금도 군침이 도네요 너무 맛있게 먹었고 단품요리도 몇가지 더 먹었는데 트러플슈마이 계속 생각나네요 조만간 또 갈 예정입니다\n",
      "와너무 맛있고요가지완자꼭시키세요그리고 코스로 안시켜도 괜찮음\n",
      "다 너무 맛있었어요!토마토탕 추천! 면에 국물이 딱 배어있어서 좋았고 마라 크림 새우도 좋았어요~ 다음에 또 가면 다른 것도 먹어보고 싶은 곳! 웨이팅은 10시 쯤 도착해서 20분부터 캐치테이블 예약했고 40분에 웨이팅 마감 됐어요~ (공휴일 기준)\n",
      "예약 후 이용대기 시간 바로 입장데이트연인・배우자\n"
     ]
    }
   ],
   "source": [
    "for li in lis:\n",
    "    if \"pui\" in str(li.get(\"class\")):\n",
    "        print(li.findAll(\"a\", attrs={\"role\":\"button\"})[-4].text)"
   ]
  }
 ],
 "metadata": {
  "kernelspec": {
   "display_name": "Python 3",
   "language": "python",
   "name": "python3"
  },
  "language_info": {
   "codemirror_mode": {
    "name": "ipython",
    "version": 3
   },
   "file_extension": ".py",
   "mimetype": "text/x-python",
   "name": "python",
   "nbconvert_exporter": "python",
   "pygments_lexer": "ipython3",
   "version": "3.13.0"
  }
 },
 "nbformat": 4,
 "nbformat_minor": 2
}
