{
 "cells": [
  {
   "cell_type": "code",
   "execution_count": 1,
   "metadata": {},
   "outputs": [],
   "source": [
    "from glob import glob\n",
    "import os\n",
    "# from pathlib import Path\n",
    "from collections import Counter\n",
    "\n",
    "from tqdm import tqdm\n",
    "import pandas as pd\n",
    "# from wordcloud import WordCloud\n",
    "# from konlpy.tag import Twitter\n",
    "# from dotenv import load_dotenv\n",
    "from openai import OpenAI\n",
    "# from sqlalchemy import text, create_engine"
   ]
  },
  {
   "cell_type": "code",
   "execution_count": null,
   "metadata": {},
   "outputs": [],
   "source": [
    "pip install pyarrow"
   ]
  },
  {
   "cell_type": "code",
   "execution_count": 2,
   "metadata": {},
   "outputs": [],
   "source": [
    "# dotenv_path = Path('..') / '.env'\n",
    "# load_dotenv(dotenv_path=dotenv_path)\n",
    "\n",
    "# db_host = os.environ[\"DB_HOST\"]\n",
    "# db_user = os.environ['DB_USER']\n",
    "# db_password = os.environ['DB_PASSWORD']\n",
    "# db_name = os.environ['DB_NAME']\n",
    "\n",
    "# engine = create_engine(f'postgresql+psycopg2://{db_user}:{db_password}@{db_host}:5432/{db_name}')"
   ]
  },
  {
   "cell_type": "code",
   "execution_count": 3,
   "metadata": {},
   "outputs": [],
   "source": [
    "# query = 'SELECT * FROM review_raw'\n",
    "\n",
    "# # 데이터 다운로드\n",
    "# df = pd.read_sql(query, engine)\n",
    "\n",
    "# # 데이터 확인\n",
    "# display(df)\n",
    "# df.info()"
   ]
  },
  {
   "cell_type": "code",
   "execution_count": 4,
   "metadata": {},
   "outputs": [],
   "source": [
    "df = pd.concat([pd.read_parquet(path) for path in glob(\"../outputs/*.parquet\")])"
   ]
  },
  {
   "cell_type": "code",
   "execution_count": 5,
   "metadata": {},
   "outputs": [],
   "source": [
    "df = pd.concat([group.head(10) for _, group in df.groupby(\"store_name\")])"
   ]
  },
  {
   "cell_type": "code",
   "execution_count": 6,
   "metadata": {},
   "outputs": [],
   "source": [
    "def get_gpt_result(msg):\n",
    "\n",
    "\n",
    "    api_key = \"\"\n",
    "    client = OpenAI(api_key=api_key)\n",
    "\n",
    "    completion = client.chat.completions.create(\n",
    "        model=\"gpt-3.5-turbo\",\n",
    "        messages=[\n",
    "            {\"role\": \"system\", \"content\": \"You are a helpful assistant.\"},\n",
    "            {\n",
    "                \"role\": \"user\",\n",
    "                \"content\": msg\n",
    "            }\n",
    "        ]\n",
    "    )\n",
    "\n",
    "    return completion.choices[0].message.content\n"
   ]
  },
  {
   "cell_type": "code",
   "execution_count": 7,
   "metadata": {},
   "outputs": [
    {
     "name": "stderr",
     "output_type": "stream",
     "text": [
      "100%|██████████| 30/30 [00:18<00:00,  1.60it/s]\n"
     ]
    }
   ],
   "source": [
    "chef_exists = []\n",
    "for _, row in tqdm(df.iterrows(), total=len(df)):\n",
    "    msg = f\"\"\"\n",
    "아래의 리뷰에서 해당 식당의 셰프인 {row.chef_name}가 있었는지 알려줘\n",
    "방문한 사람이 위 셰프를 봤다면 True, 보지 못했다면 False, 알 수 없다면 NULL을 뽑아줘\n",
    "다른 번잡한 말 필요없이 딱 Boolean만 줘야해. 반드시!\n",
    "\n",
    "{row.review_text}\n",
    "\"\"\"\n",
    "    result = get_gpt_result(msg)\n",
    "    chef_exists.append(result)\n"
   ]
  },
  {
   "cell_type": "code",
   "execution_count": 8,
   "metadata": {},
   "outputs": [],
   "source": [
    "df = df.assign(chef_exists = chef_exists)"
   ]
  },
  {
   "cell_type": "code",
   "execution_count": 9,
   "metadata": {},
   "outputs": [
    {
     "data": {
      "text/html": [
       "<div>\n",
       "<style scoped>\n",
       "    .dataframe tbody tr th:only-of-type {\n",
       "        vertical-align: middle;\n",
       "    }\n",
       "\n",
       "    .dataframe tbody tr th {\n",
       "        vertical-align: top;\n",
       "    }\n",
       "\n",
       "    .dataframe thead th {\n",
       "        text-align: right;\n",
       "    }\n",
       "</style>\n",
       "<table border=\"1\" class=\"dataframe\">\n",
       "  <thead>\n",
       "    <tr style=\"text-align: right;\">\n",
       "      <th></th>\n",
       "      <th>user_name</th>\n",
       "      <th>keywords</th>\n",
       "      <th>review_text</th>\n",
       "      <th>review_dt</th>\n",
       "      <th>raw_text</th>\n",
       "      <th>chef_name</th>\n",
       "      <th>store_name</th>\n",
       "      <th>scraped_at</th>\n",
       "      <th>chef_exists</th>\n",
       "    </tr>\n",
       "  </thead>\n",
       "  <tbody>\n",
       "    <tr>\n",
       "      <th>0</th>\n",
       "      <td>동화구연</td>\n",
       "      <td>[예약 후 이용, 대기 시간 바로 입장, 데이트, 연인・배우자]</td>\n",
       "      <td>7시 예약 후 20분 일찍 도착했는데 바로 입장 가능했습니다.동파육 - 엄청난 기대...</td>\n",
       "      <td>11.7.목</td>\n",
       "      <td>동화구연리뷰 55사진 103팔로우이전다음예약 후 이용대기 시간 바로 입장데이트연인・...</td>\n",
       "      <td>철가방</td>\n",
       "      <td>도량</td>\n",
       "      <td>2024-11-10 09:52:07.275306</td>\n",
       "      <td>True</td>\n",
       "    </tr>\n",
       "    <tr>\n",
       "      <th>1</th>\n",
       "      <td>치킨헤드</td>\n",
       "      <td>[예약 후 이용, 대기 시간 2시간 이상, 여행, 친구]</td>\n",
       "      <td>★ ★ ★ ★ ★ 완벽 그 잡채.맛+친절+분위기 모두 잡음.쉐프님 정말 친절.토요일...</td>\n",
       "      <td>10.26.토</td>\n",
       "      <td>치킨헤드리뷰 118사진 116팔로워 16팔로우예약 후 이용대기 시간 2시간 이상여행...</td>\n",
       "      <td>철가방</td>\n",
       "      <td>도량</td>\n",
       "      <td>2024-11-10 09:52:07.275306</td>\n",
       "      <td>True</td>\n",
       "    </tr>\n",
       "    <tr>\n",
       "      <th>2</th>\n",
       "      <td>김밥유령</td>\n",
       "      <td>[예약 없이 이용, 대기 시간 2시간 이상, 나들이, 연인・배우자]</td>\n",
       "      <td>동파육, 양고기튀김, 차돌짬뽕, 해산물덮밥 주문했어요.  다른 중식집은 자극적이고 ...</td>\n",
       "      <td>10.9.수</td>\n",
       "      <td>김밥유령리뷰 1,431사진 1,577팔로워 45팔로우예약 없이 이용대기 시간 2시간...</td>\n",
       "      <td>철가방</td>\n",
       "      <td>도량</td>\n",
       "      <td>2024-11-10 09:52:07.275306</td>\n",
       "      <td>False</td>\n",
       "    </tr>\n",
       "    <tr>\n",
       "      <th>3</th>\n",
       "      <td>98로라</td>\n",
       "      <td>[예약 없이 이용, 대기 시간 2시간 이상, 친목, 연인・배우자, 친구]</td>\n",
       "      <td>주말 오픈런 일등하고 왔슴다.새벽4시40분 도착해서 바로 대기했슴다주문한메뉴는 동파...</td>\n",
       "      <td>10.9.수</td>\n",
       "      <td>98로라리뷰 1,449사진 989팔로워 112테마 9팔로우예약 없이 이용대기 시간 ...</td>\n",
       "      <td>철가방</td>\n",
       "      <td>도량</td>\n",
       "      <td>2024-11-10 09:52:07.275306</td>\n",
       "      <td>False</td>\n",
       "    </tr>\n",
       "    <tr>\n",
       "      <th>4</th>\n",
       "      <td>Start21</td>\n",
       "      <td>[예약 후 이용, 대기 시간 2시간 이상, 데이트, 연인・배우자]</td>\n",
       "      <td>웨이팅 순번이 끝자락이라 동파육은 맛볼 수 없을 줄 알았는데 먹어볼 수 있어서 좋았...</td>\n",
       "      <td>10.27.일</td>\n",
       "      <td>Start21리뷰 39사진 58팔로우예약 후 이용대기 시간 2시간 이상데이트연인・배...</td>\n",
       "      <td>철가방</td>\n",
       "      <td>도량</td>\n",
       "      <td>2024-11-10 09:52:07.275306</td>\n",
       "      <td>True</td>\n",
       "    </tr>\n",
       "  </tbody>\n",
       "</table>\n",
       "</div>"
      ],
      "text/plain": [
       "  user_name                                  keywords  \\\n",
       "0      동화구연       [예약 후 이용, 대기 시간 바로 입장, 데이트, 연인・배우자]   \n",
       "1      치킨헤드           [예약 후 이용, 대기 시간 2시간 이상, 여행, 친구]   \n",
       "2      김밥유령     [예약 없이 이용, 대기 시간 2시간 이상, 나들이, 연인・배우자]   \n",
       "3      98로라  [예약 없이 이용, 대기 시간 2시간 이상, 친목, 연인・배우자, 친구]   \n",
       "4   Start21      [예약 후 이용, 대기 시간 2시간 이상, 데이트, 연인・배우자]   \n",
       "\n",
       "                                         review_text review_dt  \\\n",
       "0  7시 예약 후 20분 일찍 도착했는데 바로 입장 가능했습니다.동파육 - 엄청난 기대...    11.7.목   \n",
       "1  ★ ★ ★ ★ ★ 완벽 그 잡채.맛+친절+분위기 모두 잡음.쉐프님 정말 친절.토요일...   10.26.토   \n",
       "2  동파육, 양고기튀김, 차돌짬뽕, 해산물덮밥 주문했어요.  다른 중식집은 자극적이고 ...    10.9.수   \n",
       "3  주말 오픈런 일등하고 왔슴다.새벽4시40분 도착해서 바로 대기했슴다주문한메뉴는 동파...    10.9.수   \n",
       "4  웨이팅 순번이 끝자락이라 동파육은 맛볼 수 없을 줄 알았는데 먹어볼 수 있어서 좋았...   10.27.일   \n",
       "\n",
       "                                            raw_text chef_name store_name  \\\n",
       "0  동화구연리뷰 55사진 103팔로우이전다음예약 후 이용대기 시간 바로 입장데이트연인・...       철가방         도량   \n",
       "1  치킨헤드리뷰 118사진 116팔로워 16팔로우예약 후 이용대기 시간 2시간 이상여행...       철가방         도량   \n",
       "2  김밥유령리뷰 1,431사진 1,577팔로워 45팔로우예약 없이 이용대기 시간 2시간...       철가방         도량   \n",
       "3  98로라리뷰 1,449사진 989팔로워 112테마 9팔로우예약 없이 이용대기 시간 ...       철가방         도량   \n",
       "4  Start21리뷰 39사진 58팔로우예약 후 이용대기 시간 2시간 이상데이트연인・배...       철가방         도량   \n",
       "\n",
       "                  scraped_at chef_exists  \n",
       "0 2024-11-10 09:52:07.275306        True  \n",
       "1 2024-11-10 09:52:07.275306        True  \n",
       "2 2024-11-10 09:52:07.275306       False  \n",
       "3 2024-11-10 09:52:07.275306       False  \n",
       "4 2024-11-10 09:52:07.275306        True  "
      ]
     },
     "execution_count": 9,
     "metadata": {},
     "output_type": "execute_result"
    }
   ],
   "source": [
    "df.head()"
   ]
  },
  {
   "cell_type": "code",
   "execution_count": null,
   "metadata": {},
   "outputs": [],
   "source": [
    "df.to_excel(\"셰프존재결과.xlsx\", index=False)"
   ]
  }
 ],
 "metadata": {
  "kernelspec": {
   "display_name": "Python 3",
   "language": "python",
   "name": "python3"
  },
  "language_info": {
   "codemirror_mode": {
    "name": "ipython",
    "version": 3
   },
   "file_extension": ".py",
   "mimetype": "text/x-python",
   "name": "python",
   "nbconvert_exporter": "python",
   "pygments_lexer": "ipython3",
   "version": "3.11.1"
  }
 },
 "nbformat": 4,
 "nbformat_minor": 2
}
