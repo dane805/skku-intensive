{
 "cells": [
  {
   "cell_type": "code",
   "execution_count": 1,
   "metadata": {},
   "outputs": [],
   "source": [
    "import time\n",
    "\n",
    "from selenium import webdriver\n",
    "from selenium.webdriver.common.by import By\n",
    "\n",
    "driver = webdriver.Chrome()"
   ]
  },
  {
   "cell_type": "code",
   "execution_count": null,
   "metadata": {},
   "outputs": [],
   "source": [
    "driver.get('https://map.naver.com/p/search/%ED%8B%B0%EC%97%94%EB%AF%B8%EB%AF%B8/place/1477750254')\n",
    "## 느리게 안되면 모바일 페이지로: https://m.place.naver.com/restaurant/1477750254/home\n",
    "time.sleep(5) # Let the user actually see something!"
   ]
  },
  {
   "cell_type": "code",
   "execution_count": 3,
   "metadata": {},
   "outputs": [],
   "source": [
    "driver.switch_to.frame(\"entryIframe\")"
   ]
  },
  {
   "cell_type": "code",
   "execution_count": 4,
   "metadata": {},
   "outputs": [],
   "source": [
    "## 리뷰 클릭\n",
    "driver.find_element(By.XPATH, '//*[@id=\"app-root\"]/div/div/div/div[4]/div/div/div/div/a[4]/span').click()"
   ]
  },
  {
   "cell_type": "code",
   "execution_count": 5,
   "metadata": {},
   "outputs": [],
   "source": [
    "## 스크롤 다운\n",
    "driver.execute_script(\"window.scrollTo(0,document.body.scrollHeight)\")"
   ]
  },
  {
   "cell_type": "code",
   "execution_count": 7,
   "metadata": {},
   "outputs": [],
   "source": [
    "## 더보기 클릭\n",
    "driver.find_element(By.XPATH, '//*[@id=\"app-root\"]/div/div/div/div[6]/div[3]/div[3]/div[2]/div/a/span').click()"
   ]
  },
  {
   "cell_type": "markdown",
   "metadata": {},
   "source": [
    "### 데이터 가져오기"
   ]
  },
  {
   "cell_type": "code",
   "execution_count": 8,
   "metadata": {},
   "outputs": [
    {
     "data": {
      "text/plain": [
       "512265"
      ]
     },
     "execution_count": 8,
     "metadata": {},
     "output_type": "execute_result"
    }
   ],
   "source": [
    "html = driver.page_source\n",
    "len(html)"
   ]
  },
  {
   "cell_type": "code",
   "execution_count": 9,
   "metadata": {},
   "outputs": [],
   "source": [
    "from bs4 import BeautifulSoup\n",
    "\n",
    "soup = BeautifulSoup(html, 'html.parser')"
   ]
  },
  {
   "cell_type": "code",
   "execution_count": null,
   "metadata": {},
   "outputs": [
    {
     "data": {
      "text/plain": [
       "26"
      ]
     },
     "execution_count": 10,
     "metadata": {},
     "output_type": "execute_result"
    }
   ],
   "source": [
    "lis = [div for div in soup.findAll(\"li\")]"
   ]
  },
  {
   "cell_type": "code",
   "execution_count": 19,
   "metadata": {},
   "outputs": [
    {
     "name": "stdout",
     "output_type": "stream",
     "text": [
      "대부분 정지선쉐프님 보고 기대를 품고 방문하는 맛집이 아닐까 싶어요~방문한 날 정지선쉐프님은 안계셔서 아쉬웠지만, 직원분들 모두 너무 친절하시고 접객이 훌륭한 식당이라 기분좋은 식사를 할 수 있었습니다.마라딤섬은 단품주문이 안되서 마라딤섬이 포함된 세트를 먹을지 엄청 고민하다가 그냥 티엔세트로 먹었는데도 충분했습니다. 메뉴 하나 하나 다 맛있지만, 그렇다고 너~~~~무 맛있어!!! 이 느낌은 아닙니다. 기본은 먹어봐야지 싶어서 소룡포를 추가로 주문했는데육즙의 밸런스가 좋았습니다. 간이 엄청 쎈게 아니라개인적으론 좋았습니다.식사류로 토마토탕면을 주문했는데 왜 인기메뉴인지 알겠더라고요~ 독특하면서도 조화로운 맛있었고,홍소육덮밥은 고기보다 청경채가 맛있었을 정도로 익힘이 좋았습니다.\n",
      "더보기\n",
      "진챠 딤섬, 마늘새우찜 미친넘 .. 정지선셰프님 보고 갔는데 후회란 없다 또 가고싶다.. 중식집은 이런것이구나.. 웨이팅 생각보다 평일은 널널해요 웨이팅걸고 근처에서 놀고있으면 시간 후딱가니까 웨이팅 장벽에 포기하지말고 제발 가십쇼 ㅠ 극락 가능💕\n",
      "✔️소룡포 육즙이 팡팡. 생강 곁들여 먹으니까 향이 입안에 은은하게 퍼져서 맛있음.✔️트러플쇼마이 과하지않은 트러플향이 식욕을 돋움.✔️티엔미미춘권 겉바속촉 호불호 없는 맛.✔️바질쇼마이 바질향이 좀 약함.✔️마라딤섬 씹을 수록 알싸한 맛이 살살 올라옴. 개인적으로 호에 가까움.✔️흑초이베리코갈비 크게 썰린건 질김. 흑초베이스 소스와 건고추, 야채들이 너무 잘 어울림. 질기지 않았다면 베스트.✔️토마토탕면 새콤한 토마토향이 쎄게 다가옴. 새콤한거 좋아하면 추천함.✔️홍쇼육덮밥 홍쇼육 청경채 숙주의 조화가 좋음.🖤추천하고 싶은 메뉴는소룡포. 홍쇼육덮밥. 트러플쇼마이. 티엔미미춘권.🖤새로운 맛 도전 해보고 싶으면마라딤섬, 토마토탕면🖤무조건 '호'일 것 같은  메뉴소룡포, 티엔미미춘권, 홍쇼육덮밥\n",
      "미미세트 먹었어용! 개인적으로 입맛에 딱 맞는 건 아니였지만 음식들 자체가 퀄리티 좋은 느낌이였어요 ㅎㅎㅎ 딤섬은 날치알? 주황색깔이 젤 맛있더라구요. 마라크림새우는 제가 생각한 하얀 크림새우에 마라 첨가한 이런 느낌은 아니였고, 바삭하고 달짝지근한게 좀 꿔바로우 같은 느낌이 들었어요. 그냥 특별한 날 한 번씩 가면 좋을 것 같았습니다. 직원분들은 아주 친절하셔서 굿굿입니다\n",
      "더보기\n",
      "더보기\n",
      "더보기\n",
      "더보기\n",
      "티엔세트에 소룡포 추가해서 먹었습니다.오이무침은 마라향이 적당해서 딤섬 중간에 먹기 좋습니다. 마늘새우찜으로 시작되는 음식은 입맛을 돋구게 만듭니다. 딤섬은 종류에 따라 향이 다양해서 좋았습니다. 꿔바로우가 산미가 강해서 조금 놀랄 수 있습니다.토마토탕면은 처음 먹었는데 감칠맛이 나고 매콤해서 괜찮았습니다.디저트 딤섬은 귀여운 호빵입니다추가로 먹은 소룡포는 육즙이 가득하고 간이 딱 맞아서 마무리로 잘 먹었습니다😋다음에 오면 세트말고 딤섬류로 골고루 주문해서 먹고 싶네요!\n"
     ]
    }
   ],
   "source": [
    "for li in lis:\n",
    "    if \"pui\" in str(li.get(\"class\")):\n",
    "        print(li.findAll(\"a\", attrs={\"role\":\"button\"})[-4].text)"
   ]
  }
 ],
 "metadata": {
  "kernelspec": {
   "display_name": "Python 3",
   "language": "python",
   "name": "python3"
  },
  "language_info": {
   "codemirror_mode": {
    "name": "ipython",
    "version": 3
   },
   "file_extension": ".py",
   "mimetype": "text/x-python",
   "name": "python",
   "nbconvert_exporter": "python",
   "pygments_lexer": "ipython3",
   "version": "3.13.0"
  }
 },
 "nbformat": 4,
 "nbformat_minor": 2
}
