{
 "cells": [
  {
   "cell_type": "code",
   "execution_count": 1,
   "metadata": {},
   "outputs": [],
   "source": [
    "import time\n",
    "import os\n",
    "from pathlib import Path\n",
    "from datetime import datetime\n",
    "\n",
    "import pandas as pd\n",
    "from tqdm import tqdm\n",
    "from dotenv import load_dotenv\n",
    "from bs4 import BeautifulSoup\n",
    "from sqlalchemy import text, create_engine\n",
    "from selenium import webdriver\n",
    "from selenium.webdriver.common.by import By"
   ]
  },
  {
   "cell_type": "code",
   "execution_count": 2,
   "metadata": {},
   "outputs": [],
   "source": [
    "## 환경 변수 셋업\n",
    "os.environ['DB_HOST'] = \"34.84.197.62\"\n",
    "os.environ['DB_USER'] = \"postgres\"\n",
    "os.environ['DB_PASSWORD'] = \"skku-intensive\"\n",
    "os.environ['DB_NAME'] = \"postgres\"\n",
    "\n",
    "db_host = os.environ[\"DB_HOST\"]\n",
    "db_user = os.environ['DB_USER']\n",
    "db_password = os.environ['DB_PASSWORD']\n",
    "db_name = os.environ['DB_NAME']"
   ]
  },
  {
   "cell_type": "markdown",
   "metadata": {},
   "source": [
    "### 연결 체크"
   ]
  },
  {
   "cell_type": "code",
   "execution_count": 3,
   "metadata": {},
   "outputs": [
    {
     "name": "stdout",
     "output_type": "stream",
     "text": [
      "PostgreSQL 16.4 on x86_64-pc-linux-gnu, compiled by Debian clang version 12.0.1, 64-bit\n"
     ]
    }
   ],
   "source": [
    "engine = create_engine(f'postgresql+psycopg2://{db_user}:{db_password}@{db_host}:5432/{db_name}')\n",
    "\n",
    "# 데이터베이스 연결\n",
    "with engine.connect() as connection:\n",
    "    # 버전 확인 쿼리 실행\n",
    "    result = connection.execute(text(\"SELECT version();\"))\n",
    "    \n",
    "    # 결과 출력\n",
    "    version = result.fetchone()\n",
    "    print(version[0])\n",
    "\n",
    "# 엔진 종료\n",
    "engine.dispose()"
   ]
  },
  {
   "cell_type": "markdown",
   "metadata": {},
   "source": [
    "### 스크래핑"
   ]
  },
  {
   "cell_type": "code",
   "execution_count": 15,
   "metadata": {},
   "outputs": [],
   "source": [
    "def scroll_down_to_bottom(driver):\n",
    "    scroll_location = driver.execute_script(\"return document.body.scrollHeight\")\n",
    "    for _ in range(10):\n",
    "        driver.execute_script(\"window.scrollTo(0,document.body.scrollHeight)\")\n",
    "        time.sleep(2)\n",
    "        scroll_height = driver.execute_script(\"return document.body.scrollHeight\")\n",
    "        if scroll_location == scroll_height:\n",
    "            break\n",
    "        else:\n",
    "\n",
    "            scroll_location = driver.execute_script(\"return document.body.scrollHeight\")"
   ]
  },
  {
   "cell_type": "markdown",
   "metadata": {},
   "source": [
    "**접속**"
   ]
  },
  {
   "cell_type": "code",
   "execution_count": 5,
   "metadata": {},
   "outputs": [],
   "source": [
    "driver = webdriver.Chrome()"
   ]
  },
  {
   "cell_type": "code",
   "execution_count": 6,
   "metadata": {},
   "outputs": [],
   "source": [
    "store_info_list = [\n",
    "    {\"place_id\":1477750254, \"chef_name\":\"정지선\", \"store_name\":\"티엔미미\"},\n",
    "    {\"place_id\":1283188906, \"chef_name\":\"히든천재\", \"store_name\":\"포노부오노\"},\n",
    "    {\"place_id\":1018077796, \"chef_name\":\"나폴리맛피아\", \"store_name\":\"비아 톨레도 파스타바\"},\n",
    "    {\"place_id\":1775308300, \"chef_name\":\"파브리\", \"store_name\":\"파브리키친\"},\n",
    "    {\"place_id\":1817207066, \"chef_name\":\"철가방\", \"store_name\":\"도량\"},\n",
    "    {\"place_id\":1570882425, \"chef_name\":\"트리플스타\", \"store_name\":\"트리드\"},\n",
    "    {\"place_id\":1647309508, \"chef_name\":\"요리하는돌아이\", \"store_name\":\"디핀\"},\n",
    "    {\"place_id\":1132840035, \"chef_name\":\"만찢남\", \"store_name\":\"조광\"},\n",
    "    {\"place_id\":280965665, \"chef_name\":\"최현석\", \"store_name\":\"쵸이닷\"},\n",
    "]"
   ]
  },
  {
   "cell_type": "code",
   "execution_count": 7,
   "metadata": {},
   "outputs": [],
   "source": [
    "store_info = store_info_list[5  ]"
   ]
  },
  {
   "cell_type": "code",
   "execution_count": 8,
   "metadata": {},
   "outputs": [],
   "source": [
    "driver.get(f\"https://m.place.naver.com/restaurant/{store_info['place_id']}/review/visitor\")\n",
    "## 느리게 안되면 모바일 페이지로: \n",
    "time.sleep(5) # Let the user actually see something!"
   ]
  },
  {
   "cell_type": "code",
   "execution_count": 9,
   "metadata": {},
   "outputs": [],
   "source": [
    "## 리뷰 클릭\n",
    "# driver.find_element(By.XPATH, '//*[@id=\"app-root\"]/div/div/div/div[4]/div/div/div/div/a[4]/span').click()"
   ]
  },
  {
   "cell_type": "code",
   "execution_count": 12,
   "metadata": {},
   "outputs": [],
   "source": [
    "driver.find_element(By.XPATH, '//*[@id=\"app-root\"]/div/div/div/div[6]/div[2]/div[5]/div[2]/div/div/a').click()\n"
   ]
  },
  {
   "cell_type": "code",
   "execution_count": 16,
   "metadata": {},
   "outputs": [],
   "source": [
    "for _ in range(100):\n",
    "    scroll_down_to_bottom(driver)\n",
    "    try:\n",
    "        driver.find_element(By.XPATH, '//*[@id=\"app-root\"]/div/div/div/div[6]/div[2]/div[3]/div[2]/div/a/span').click()\n",
    "    except:\n",
    "        break"
   ]
  },
  {
   "cell_type": "markdown",
   "metadata": {},
   "source": [
    "**데이터 가져오기**"
   ]
  },
  {
   "cell_type": "code",
   "execution_count": 11,
   "metadata": {},
   "outputs": [],
   "source": [
    "html = driver.page_source\n",
    "soup = BeautifulSoup(html, 'html.parser')"
   ]
  },
  {
   "cell_type": "code",
   "execution_count": null,
   "metadata": {},
   "outputs": [],
   "source": [
    "## 파싱\n",
    "res = []\n",
    "for li in tqdm(soup.findAll(\"ul\")[2].findAll(\"li\")):\n",
    "    user_name = li.find(\"span\").text\n",
    "    keywords = [key.text for key in li.find(\"a\", attrs={\"data-pui-click-code\":\"visitkeywords\"}).findAll(\"span\")]\n",
    "    review_text = li.find(\"a\", attrs={\"data-pui-click-code\":\"rvshowmore\"}).text\n",
    "    review_dt = li.find(\"time\").text\n",
    "    raw_text = li.text\n",
    "    temp_info = [user_name, keywords, review_text, review_dt, raw_text]\n",
    "    res.append(temp_info)\n",
    "\n",
    "print(f\"리뷰 수: {len(res)}\")"
   ]
  },
  {
   "cell_type": "code",
   "execution_count": null,
   "metadata": {},
   "outputs": [],
   "source": [
    "df = pd.DataFrame(res, columns = [\"user_name\", \"keywords\", \"review_text\", \"review_dt\", \"raw_text\"])\n",
    "df = df.assign(\n",
    "    chef_name = store_info[\"chef_name\"], \n",
    "    store_name = store_info[\"store_name\"],\n",
    "    scraped_at = datetime.now()\n",
    ")\n",
    "display(df.head())\n",
    "df.to_sql('review_raw', engine, if_exists='append', index=False)"
   ]
  },
  {
   "cell_type": "code",
   "execution_count": 18,
   "metadata": {},
   "outputs": [],
   "source": [
    "df.to_parquet(\"temp.parquet\")"
   ]
  },
  {
   "cell_type": "code",
   "execution_count": null,
   "metadata": {},
   "outputs": [],
   "source": []
  }
 ],
 "metadata": {
  "kernelspec": {
   "display_name": "Python 3",
   "language": "python",
   "name": "python3"
  },
  "language_info": {
   "codemirror_mode": {
    "name": "ipython",
    "version": 3
   },
   "file_extension": ".py",
   "mimetype": "text/x-python",
   "name": "python",
   "nbconvert_exporter": "python",
   "pygments_lexer": "ipython3",
   "version": "3.11.1"
  }
 },
 "nbformat": 4,
 "nbformat_minor": 2
}
