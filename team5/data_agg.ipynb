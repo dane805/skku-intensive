{
 "cells": [
  {
   "cell_type": "code",
   "execution_count": 2,
   "metadata": {},
   "outputs": [],
   "source": [
    "from glob import glob\n",
    "\n",
    "import pandas as pd"
   ]
  },
  {
   "cell_type": "code",
   "execution_count": 3,
   "metadata": {},
   "outputs": [],
   "source": [
    "df = pd.concat([pd.read_parquet(path) for path in glob(\"../outputs/*_review.parquet\")])\n",
    "df.loc[df.review_dt.str.count(\"\\.\") == 2, \"review_dt\"] = \"24.\" + df.loc[df.review_dt.str.count(\"\\.\") == 2, \"review_dt\"]\n",
    "df.review_dt = pd.to_datetime(df.review_dt.str[:-1], format=\"%y.%m.%d.\")"
   ]
  },
  {
   "cell_type": "code",
   "execution_count": 4,
   "metadata": {},
   "outputs": [],
   "source": [
    "df = df.assign(review_month = df.review_dt.dt.to_period('M'))"
   ]
  },
  {
   "cell_type": "code",
   "execution_count": 5,
   "metadata": {},
   "outputs": [],
   "source": [
    "df_agg = df.groupby([\"store_name\", \"review_month\"], as_index=False).size()"
   ]
  },
  {
   "cell_type": "code",
   "execution_count": 6,
   "metadata": {},
   "outputs": [],
   "source": [
    "df_agg.to_parquet(\"monthly_review_count.parquet\")"
   ]
  },
  {
   "cell_type": "code",
   "execution_count": 12,
   "metadata": {},
   "outputs": [],
   "source": [
    "df_meta = df[[\"store_name\", \"store_cate\", \"store_location\"]].drop_duplicates()\n",
    "df_meta.to_parquet(\"df_meta.parquet\")"
   ]
  }
 ],
 "metadata": {
  "kernelspec": {
   "display_name": "Python 3",
   "language": "python",
   "name": "python3"
  },
  "language_info": {
   "codemirror_mode": {
    "name": "ipython",
    "version": 3
   },
   "file_extension": ".py",
   "mimetype": "text/x-python",
   "name": "python",
   "nbconvert_exporter": "python",
   "pygments_lexer": "ipython3",
   "version": "3.11.1"
  }
 },
 "nbformat": 4,
 "nbformat_minor": 2
}
